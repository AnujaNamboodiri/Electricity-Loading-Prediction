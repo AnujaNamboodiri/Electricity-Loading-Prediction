{
 "cells": [
  {
   "cell_type": "code",
   "execution_count": 13,
   "metadata": {},
   "outputs": [],
   "source": [
    "import pandas as pd\n",
    "import numpy as np\n",
    "\n",
    "import warnings\n",
    "warnings.filterwarnings(\"ignore\")"
   ]
  },
  {
   "attachments": {},
   "cell_type": "markdown",
   "metadata": {},
   "source": [
    "### Import dataset and display the dataframe with headers\n",
    "\n",
    "##### URL to the dataset : https://archive.ics.uci.edu/ml/datasets/ElectricityLoadDiagrams20112014#"
   ]
  },
  {
   "cell_type": "code",
   "execution_count": 15,
   "metadata": {},
   "outputs": [
    {
     "data": {
      "text/html": [
       "<div>\n",
       "<style scoped>\n",
       "    .dataframe tbody tr th:only-of-type {\n",
       "        vertical-align: middle;\n",
       "    }\n",
       "\n",
       "    .dataframe tbody tr th {\n",
       "        vertical-align: top;\n",
       "    }\n",
       "\n",
       "    .dataframe thead th {\n",
       "        text-align: right;\n",
       "    }\n",
       "</style>\n",
       "<table border=\"1\" class=\"dataframe\">\n",
       "  <thead>\n",
       "    <tr style=\"text-align: right;\">\n",
       "      <th></th>\n",
       "      <th>time</th>\n",
       "      <th>MT_001</th>\n",
       "      <th>MT_002</th>\n",
       "      <th>MT_003</th>\n",
       "      <th>MT_004</th>\n",
       "      <th>MT_005</th>\n",
       "      <th>MT_006</th>\n",
       "      <th>MT_007</th>\n",
       "      <th>MT_008</th>\n",
       "      <th>MT_009</th>\n",
       "      <th>...</th>\n",
       "      <th>MT_361</th>\n",
       "      <th>MT_362</th>\n",
       "      <th>MT_363</th>\n",
       "      <th>MT_364</th>\n",
       "      <th>MT_365</th>\n",
       "      <th>MT_366</th>\n",
       "      <th>MT_367</th>\n",
       "      <th>MT_368</th>\n",
       "      <th>MT_369</th>\n",
       "      <th>MT_370</th>\n",
       "    </tr>\n",
       "  </thead>\n",
       "  <tbody>\n",
       "    <tr>\n",
       "      <th>0</th>\n",
       "      <td>2011-01-01 00:15:00</td>\n",
       "      <td>0</td>\n",
       "      <td>0</td>\n",
       "      <td>0</td>\n",
       "      <td>0</td>\n",
       "      <td>0</td>\n",
       "      <td>0</td>\n",
       "      <td>0</td>\n",
       "      <td>0</td>\n",
       "      <td>0</td>\n",
       "      <td>...</td>\n",
       "      <td>0</td>\n",
       "      <td>0.0</td>\n",
       "      <td>0</td>\n",
       "      <td>0</td>\n",
       "      <td>0</td>\n",
       "      <td>0</td>\n",
       "      <td>0</td>\n",
       "      <td>0</td>\n",
       "      <td>0</td>\n",
       "      <td>0</td>\n",
       "    </tr>\n",
       "    <tr>\n",
       "      <th>1</th>\n",
       "      <td>2011-01-01 00:30:00</td>\n",
       "      <td>0</td>\n",
       "      <td>0</td>\n",
       "      <td>0</td>\n",
       "      <td>0</td>\n",
       "      <td>0</td>\n",
       "      <td>0</td>\n",
       "      <td>0</td>\n",
       "      <td>0</td>\n",
       "      <td>0</td>\n",
       "      <td>...</td>\n",
       "      <td>0</td>\n",
       "      <td>0.0</td>\n",
       "      <td>0</td>\n",
       "      <td>0</td>\n",
       "      <td>0</td>\n",
       "      <td>0</td>\n",
       "      <td>0</td>\n",
       "      <td>0</td>\n",
       "      <td>0</td>\n",
       "      <td>0</td>\n",
       "    </tr>\n",
       "    <tr>\n",
       "      <th>2</th>\n",
       "      <td>2011-01-01 00:45:00</td>\n",
       "      <td>0</td>\n",
       "      <td>0</td>\n",
       "      <td>0</td>\n",
       "      <td>0</td>\n",
       "      <td>0</td>\n",
       "      <td>0</td>\n",
       "      <td>0</td>\n",
       "      <td>0</td>\n",
       "      <td>0</td>\n",
       "      <td>...</td>\n",
       "      <td>0</td>\n",
       "      <td>0.0</td>\n",
       "      <td>0</td>\n",
       "      <td>0</td>\n",
       "      <td>0</td>\n",
       "      <td>0</td>\n",
       "      <td>0</td>\n",
       "      <td>0</td>\n",
       "      <td>0</td>\n",
       "      <td>0</td>\n",
       "    </tr>\n",
       "  </tbody>\n",
       "</table>\n",
       "<p>3 rows × 371 columns</p>\n",
       "</div>"
      ],
      "text/plain": [
       "                  time MT_001 MT_002 MT_003 MT_004 MT_005 MT_006 MT_007  \\\n",
       "0  2011-01-01 00:15:00      0      0      0      0      0      0      0   \n",
       "1  2011-01-01 00:30:00      0      0      0      0      0      0      0   \n",
       "2  2011-01-01 00:45:00      0      0      0      0      0      0      0   \n",
       "\n",
       "  MT_008 MT_009  ... MT_361 MT_362 MT_363 MT_364 MT_365 MT_366 MT_367 MT_368  \\\n",
       "0      0      0  ...      0    0.0      0      0      0      0      0      0   \n",
       "1      0      0  ...      0    0.0      0      0      0      0      0      0   \n",
       "2      0      0  ...      0    0.0      0      0      0      0      0      0   \n",
       "\n",
       "  MT_369 MT_370  \n",
       "0      0      0  \n",
       "1      0      0  \n",
       "2      0      0  \n",
       "\n",
       "[3 rows x 371 columns]"
      ]
     },
     "execution_count": 15,
     "metadata": {},
     "output_type": "execute_result"
    }
   ],
   "source": [
    "data = pd.read_csv(\"Electricity-Loading-Prediction.txt\", sep=\";\")\n",
    "data.rename(columns = {\"Unnamed: 0\" : \"time\"}, inplace=True)\n",
    "data.head(3)"
   ]
  },
  {
   "cell_type": "code",
   "execution_count": 16,
   "metadata": {},
   "outputs": [
    {
     "name": "stdout",
     "output_type": "stream",
     "text": [
      "<class 'pandas.core.frame.DataFrame'>\n",
      "RangeIndex: 140256 entries, 0 to 140255\n",
      "Columns: 371 entries, time to MT_370\n",
      "dtypes: float64(1), object(370)\n",
      "memory usage: 397.0+ MB\n"
     ]
    }
   ],
   "source": [
    "# check basic information about the dataset\n",
    "data.info()"
   ]
  },
  {
   "cell_type": "code",
   "execution_count": 18,
   "metadata": {},
   "outputs": [
    {
     "name": "stdout",
     "output_type": "stream",
     "text": [
      "['MT_362']\n"
     ]
    }
   ],
   "source": [
    "# check which column is float \n",
    "print([column for column in data.columns if data[column].dtype == \"float\" ])"
   ]
  },
  {
   "cell_type": "code",
   "execution_count": 28,
   "metadata": {},
   "outputs": [
    {
     "data": {
      "text/plain": [
       "time      0\n",
       "MT_244    0\n",
       "MT_253    0\n",
       "MT_252    0\n",
       "MT_251    0\n",
       "         ..\n",
       "MT_121    0\n",
       "MT_120    0\n",
       "MT_119    0\n",
       "MT_118    0\n",
       "MT_370    0\n",
       "Length: 371, dtype: int64"
      ]
     },
     "execution_count": 28,
     "metadata": {},
     "output_type": "execute_result"
    }
   ],
   "source": [
    "# check for null values if any\n",
    "data.isna().sum().sort_values(ascending = False)"
   ]
  },
  {
   "cell_type": "code",
   "execution_count": 38,
   "metadata": {},
   "outputs": [
    {
     "name": "stdout",
     "output_type": "stream",
     "text": [
      "<class 'pandas.core.frame.DataFrame'>\n",
      "RangeIndex: 140256 entries, 0 to 140255\n",
      "Columns: 371 entries, time to MT_370\n",
      "dtypes: datetime64[ns](1), float64(1), object(369)\n",
      "memory usage: 397.0+ MB\n",
      "['time']\n"
     ]
    }
   ],
   "source": [
    "# convert timestamp column to datetime and rest all column entries to float\n",
    "data[\"time\"] = pd.to_datetime(data[\"time\"])\n",
    "data.info()\n",
    "\n",
    "# check which column is timestamp \n",
    "print([column for column in data.columns if data[column].dtype == \"datetime64[ns]\" ])"
   ]
  },
  {
   "cell_type": "code",
   "execution_count": 57,
   "metadata": {},
   "outputs": [
    {
     "name": "stdout",
     "output_type": "stream",
     "text": [
      "371\n",
      "369\n"
     ]
    }
   ],
   "source": [
    "exclude = set(['time', 'MT_362'])\n",
    "columns = set(data.columns) \n",
    "print(len(columns))\n",
    "include = list(columns - exclude)\n",
    "print(len(include))"
   ]
  },
  {
   "cell_type": "code",
   "execution_count": 87,
   "metadata": {},
   "outputs": [
    {
     "data": {
      "text/html": [
       "<div>\n",
       "<style scoped>\n",
       "    .dataframe tbody tr th:only-of-type {\n",
       "        vertical-align: middle;\n",
       "    }\n",
       "\n",
       "    .dataframe tbody tr th {\n",
       "        vertical-align: top;\n",
       "    }\n",
       "\n",
       "    .dataframe thead th {\n",
       "        text-align: right;\n",
       "    }\n",
       "</style>\n",
       "<table border=\"1\" class=\"dataframe\">\n",
       "  <thead>\n",
       "    <tr style=\"text-align: right;\">\n",
       "      <th></th>\n",
       "      <th>time</th>\n",
       "      <th>MT_001</th>\n",
       "      <th>MT_002</th>\n",
       "      <th>MT_003</th>\n",
       "      <th>MT_004</th>\n",
       "      <th>MT_005</th>\n",
       "      <th>MT_006</th>\n",
       "      <th>MT_007</th>\n",
       "      <th>MT_008</th>\n",
       "      <th>MT_009</th>\n",
       "      <th>...</th>\n",
       "      <th>MT_361</th>\n",
       "      <th>MT_362</th>\n",
       "      <th>MT_363</th>\n",
       "      <th>MT_364</th>\n",
       "      <th>MT_365</th>\n",
       "      <th>MT_366</th>\n",
       "      <th>MT_367</th>\n",
       "      <th>MT_368</th>\n",
       "      <th>MT_369</th>\n",
       "      <th>MT_370</th>\n",
       "    </tr>\n",
       "  </thead>\n",
       "  <tbody>\n",
       "    <tr>\n",
       "      <th>140253</th>\n",
       "      <td>2014-12-31 23:30:00</td>\n",
       "      <td>2.538071</td>\n",
       "      <td>20.625889</td>\n",
       "      <td>1.737619</td>\n",
       "      <td>162.601626</td>\n",
       "      <td>82.926829</td>\n",
       "      <td>318.452381</td>\n",
       "      <td>10.17524</td>\n",
       "      <td>242.424242</td>\n",
       "      <td>61.188811</td>\n",
       "      <td>...</td>\n",
       "      <td>284.796574</td>\n",
       "      <td>27800.0</td>\n",
       "      <td>1556.962025</td>\n",
       "      <td>1318.181818</td>\n",
       "      <td>27.379400</td>\n",
       "      <td>9.362200</td>\n",
       "      <td>670.763828</td>\n",
       "      <td>153.589316</td>\n",
       "      <td>670.087977</td>\n",
       "      <td>6864.864865</td>\n",
       "    </tr>\n",
       "    <tr>\n",
       "      <th>140254</th>\n",
       "      <td>2014-12-31 23:45:00</td>\n",
       "      <td>1.269036</td>\n",
       "      <td>21.337127</td>\n",
       "      <td>1.737619</td>\n",
       "      <td>166.666667</td>\n",
       "      <td>85.365854</td>\n",
       "      <td>285.714286</td>\n",
       "      <td>10.17524</td>\n",
       "      <td>225.589226</td>\n",
       "      <td>64.685315</td>\n",
       "      <td>...</td>\n",
       "      <td>246.252677</td>\n",
       "      <td>28000.0</td>\n",
       "      <td>1443.037975</td>\n",
       "      <td>909.090909</td>\n",
       "      <td>26.075619</td>\n",
       "      <td>4.095963</td>\n",
       "      <td>664.618086</td>\n",
       "      <td>146.911519</td>\n",
       "      <td>646.627566</td>\n",
       "      <td>6540.540541</td>\n",
       "    </tr>\n",
       "    <tr>\n",
       "      <th>140255</th>\n",
       "      <td>2015-01-01 00:00:00</td>\n",
       "      <td>2.538071</td>\n",
       "      <td>19.914651</td>\n",
       "      <td>1.737619</td>\n",
       "      <td>178.861789</td>\n",
       "      <td>84.146341</td>\n",
       "      <td>279.761905</td>\n",
       "      <td>10.17524</td>\n",
       "      <td>249.158249</td>\n",
       "      <td>62.937063</td>\n",
       "      <td>...</td>\n",
       "      <td>188.436831</td>\n",
       "      <td>27800.0</td>\n",
       "      <td>1409.282700</td>\n",
       "      <td>954.545455</td>\n",
       "      <td>27.379400</td>\n",
       "      <td>4.095963</td>\n",
       "      <td>628.621598</td>\n",
       "      <td>131.886477</td>\n",
       "      <td>673.020528</td>\n",
       "      <td>7135.135135</td>\n",
       "    </tr>\n",
       "  </tbody>\n",
       "</table>\n",
       "<p>3 rows × 371 columns</p>\n",
       "</div>"
      ],
      "text/plain": [
       "                      time    MT_001     MT_002    MT_003      MT_004  \\\n",
       "140253 2014-12-31 23:30:00  2.538071  20.625889  1.737619  162.601626   \n",
       "140254 2014-12-31 23:45:00  1.269036  21.337127  1.737619  166.666667   \n",
       "140255 2015-01-01 00:00:00  2.538071  19.914651  1.737619  178.861789   \n",
       "\n",
       "           MT_005      MT_006    MT_007      MT_008     MT_009  ...  \\\n",
       "140253  82.926829  318.452381  10.17524  242.424242  61.188811  ...   \n",
       "140254  85.365854  285.714286  10.17524  225.589226  64.685315  ...   \n",
       "140255  84.146341  279.761905  10.17524  249.158249  62.937063  ...   \n",
       "\n",
       "            MT_361   MT_362       MT_363       MT_364     MT_365    MT_366  \\\n",
       "140253  284.796574  27800.0  1556.962025  1318.181818  27.379400  9.362200   \n",
       "140254  246.252677  28000.0  1443.037975   909.090909  26.075619  4.095963   \n",
       "140255  188.436831  27800.0  1409.282700   954.545455  27.379400  4.095963   \n",
       "\n",
       "            MT_367      MT_368      MT_369       MT_370  \n",
       "140253  670.763828  153.589316  670.087977  6864.864865  \n",
       "140254  664.618086  146.911519  646.627566  6540.540541  \n",
       "140255  628.621598  131.886477  673.020528  7135.135135  \n",
       "\n",
       "[3 rows x 371 columns]"
      ]
     },
     "execution_count": 87,
     "metadata": {},
     "output_type": "execute_result"
    }
   ],
   "source": [
    "# convert all other columns except column MT_362 and time to float\n",
    "for column in include:\n",
    "    data[column] = data[column].str.replace(\",\", \".\").astype(float)\n",
    "    \n",
    "\n",
    "data.tail(3)"
   ]
  },
  {
   "cell_type": "code",
   "execution_count": 88,
   "metadata": {},
   "outputs": [
    {
     "name": "stdout",
     "output_type": "stream",
     "text": [
      "<class 'pandas.core.frame.DataFrame'>\n",
      "RangeIndex: 140256 entries, 0 to 140255\n",
      "Columns: 371 entries, time to MT_370\n",
      "dtypes: datetime64[ns](1), float64(370)\n",
      "memory usage: 397.0 MB\n"
     ]
    }
   ],
   "source": [
    "data.info()"
   ]
  },
  {
   "cell_type": "code",
   "execution_count": null,
   "metadata": {},
   "outputs": [],
   "source": []
  }
 ],
 "metadata": {
  "kernelspec": {
   "display_name": "Python 3",
   "language": "python",
   "name": "python3"
  },
  "language_info": {
   "codemirror_mode": {
    "name": "ipython",
    "version": 3
   },
   "file_extension": ".py",
   "mimetype": "text/x-python",
   "name": "python",
   "nbconvert_exporter": "python",
   "pygments_lexer": "ipython3",
   "version": "3.7.9"
  },
  "orig_nbformat": 4
 },
 "nbformat": 4,
 "nbformat_minor": 2
}
